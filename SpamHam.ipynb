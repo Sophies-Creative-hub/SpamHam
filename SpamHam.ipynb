{
 "cells": [
  {
   "cell_type": "markdown",
   "metadata": {},
   "source": [
    "# Spam Ham"
   ]
  },
  {
   "cell_type": "markdown",
   "metadata": {},
   "source": [
    "Bag of Words (BoW) ist eine Darstellungsmethode für Textdaten. Dabei wird ein Text in eine Menge von Wörtern (oder auch Tokens) zerlegt und dann die Häufigkeit jedes Worts im Text erfasst. Diese Häufigkeiten werden dann als Vektoren dargestellt, wobei jeder Eintrag im Vektor die Anzahl der Vorkommen eines bestimmten Worts im Text repräsentiert. Die Reihenfolge der Wörter im Text wird dabei nicht berücksichtigt, es wird also keine Rücksicht auf die Grammatik oder die Struktur des Textes genommen. BoW ist eine häufig verwendete Methode in der Textanalyse und wird oft als Vorverarbeitungsschritt für maschinelles Lernen oder Text Mining verwendet."
   ]
  },
  {
   "cell_type": "code",
   "execution_count": 1,
   "metadata": {},
   "outputs": [],
   "source": [
    "import numpy as np # linear algebra\n",
    "import pandas as pd # data processing, CSV file I/O (e.g. pd.read_csv)\n",
    "import os\n",
    "\n",
    "# data manipulation and text \n",
    "import re\n",
    "import nltk\n",
    "from nltk.corpus import stopwords, wordnet\n",
    "from nltk.tokenize import word_tokenize"
   ]
  },
  {
   "cell_type": "code",
   "execution_count": 3,
   "metadata": {},
   "outputs": [],
   "source": [
    "# getting the paths of each email type\n",
    "legitimate_emails = 'data/ham/'\n",
    "spam_emails = 'data/spam/'"
   ]
  },
  {
   "cell_type": "code",
   "execution_count": 4,
   "metadata": {},
   "outputs": [],
   "source": [
    "# defining a function to load the data\n",
    "def get_data(path):\n",
    "    # setting an empty list to store the data\n",
    "    data = []\n",
    "    files = os.listdir(path) # getting the files\n",
    "    \n",
    "    for file in files:\n",
    "        # getting the file and loading it in memory\n",
    "        processed_file = open(path + file, encoding = \"ISO-8859-1\")\n",
    "        # reading the file\n",
    "        words_list = processed_file.read()\n",
    "        # appending the processed data\n",
    "        data.append(words_list)\n",
    "        # closing the file\n",
    "        processed_file.close()\n",
    "    \n",
    "    # returning the final result\n",
    "    return data"
   ]
  },
  {
   "cell_type": "code",
   "execution_count": 5,
   "metadata": {},
   "outputs": [],
   "source": [
    "# getting the files for each email type\n",
    "\n",
    "# legitimate emails\n",
    "ham = get_data(legitimate_emails)\n",
    "\n",
    "# the spam emails\n",
    "spam = get_data(spam_emails)"
   ]
  },
  {
   "cell_type": "code",
   "execution_count": 6,
   "metadata": {},
   "outputs": [],
   "source": [
    "# cleaning the emails\n",
    "def clean_emails(emails):\n",
    "    # a list of cleaned emails to store them\n",
    "    cleaned_emails = []\n",
    "    \n",
    "    for email in emails:\n",
    "        # Split the email into lines\n",
    "        lines = email.split('\\n')\n",
    "\n",
    "        # Get the content of the email\n",
    "        content = ''\n",
    "        for line in lines:\n",
    "            if line.startswith('Subject:'):\n",
    "                subject = line.replace('Subject:', '').strip()\n",
    "            elif line.startswith('From:'):\n",
    "                sender = line.replace('From:', '').strip()\n",
    "            elif line.startswith('To:'):\n",
    "                recipient = line.replace('To:', '').strip()\n",
    "            elif line.startswith('Date:'):\n",
    "                date = line.replace('Date:', '').strip()\n",
    "            elif line.startswith('X-'):\n",
    "                continue\n",
    "            else:\n",
    "                content += line.strip()\n",
    "\n",
    "        # Append the cleaned email to the list of cleaned emails\n",
    "        cleaned_emails.append({'sender': sender,\n",
    "                               'recipient': recipient,\n",
    "                               'subject': subject,\n",
    "                               'date': date,\n",
    "                               'content': content})\n",
    "\n",
    "    return cleaned_emails"
   ]
  },
  {
   "cell_type": "code",
   "execution_count": 7,
   "metadata": {},
   "outputs": [],
   "source": [
    "# Clean the legitimate and spam emails\n",
    "cleaned_ham = clean_emails(ham)\n",
    "cleaned_spam = clean_emails(spam)"
   ]
  },
  {
   "cell_type": "code",
   "execution_count": 8,
   "metadata": {},
   "outputs": [],
   "source": [
    "# getting the data as a dataframe\n",
    "legitimate = pd.DataFrame(cleaned_ham)\n",
    "\n",
    "# getting the data as a dataframe\n",
    "spam = pd.DataFrame(cleaned_spam)"
   ]
  },
  {
   "cell_type": "code",
   "execution_count": 9,
   "metadata": {},
   "outputs": [
    {
     "data": {
      "text/html": [
       "<div>\n",
       "<style scoped>\n",
       "    .dataframe tbody tr th:only-of-type {\n",
       "        vertical-align: middle;\n",
       "    }\n",
       "\n",
       "    .dataframe tbody tr th {\n",
       "        vertical-align: top;\n",
       "    }\n",
       "\n",
       "    .dataframe thead th {\n",
       "        text-align: right;\n",
       "    }\n",
       "</style>\n",
       "<table border=\"1\" class=\"dataframe\">\n",
       "  <thead>\n",
       "    <tr style=\"text-align: right;\">\n",
       "      <th></th>\n",
       "      <th>sender</th>\n",
       "      <th>recipient</th>\n",
       "      <th>subject</th>\n",
       "      <th>date</th>\n",
       "      <th>content</th>\n",
       "    </tr>\n",
       "  </thead>\n",
       "  <tbody>\n",
       "    <tr>\n",
       "      <th>0</th>\n",
       "      <td>\"Loveimpact\" &lt;lvi300702@free.fr&gt;</td>\n",
       "      <td>\"-\" &lt;lvi300702@free.fr&gt;</td>\n",
       "      <td>Dialogue et Rencontre ? Rejoins nous !</td>\n",
       "      <td>Fri, 2 Aug 2002 22:22:54 +0200</td>\n",
       "      <td>From lvi300702@free.fr  Tue Aug  6 12:50:59 20...</td>\n",
       "    </tr>\n",
       "    <tr>\n",
       "      <th>1</th>\n",
       "      <td>\"Cristine Person\" &lt;mikecornwell@myfastmail.com&gt;</td>\n",
       "      <td>&lt;Crittenden@einstein.ssz.com&gt;</td>\n",
       "      <td>Take your love life to the next level         ...</td>\n",
       "      <td>Thu, 25 Jul 2002 15:07:01 -1600</td>\n",
       "      <td>Received: from hq.pro-ns.net (localhost [127.0...</td>\n",
       "    </tr>\n",
       "    <tr>\n",
       "      <th>2</th>\n",
       "      <td>\"edum\" &lt;edum@hkem.com&gt;</td>\n",
       "      <td>&lt;dcms-dev@eros-os.org&gt;</td>\n",
       "      <td>[dcms-dev] MY INHERITANCE</td>\n",
       "      <td>May 16,2002.</td>\n",
       "      <td>From edum@hkem.com  Mon Jun 24 17:04:26 2002Re...</td>\n",
       "    </tr>\n",
       "    <tr>\n",
       "      <th>3</th>\n",
       "      <td>blissptht65@yahoo.com</td>\n",
       "      <td>&lt;Undisclosed.Recipients@dogma.slashnull.org&gt;</td>\n",
       "      <td>Gain Major Cash</td>\n",
       "      <td>Sat, 25 Nov 2000 13:06:31 -0700</td>\n",
       "      <td>From blissptht65@yahoo.com  Thu Jul 12 06:33:5...</td>\n",
       "    </tr>\n",
       "    <tr>\n",
       "      <th>4</th>\n",
       "      <td>&lt;Tonyclg123@starmail.com&gt;</td>\n",
       "      <td>Hello@locust.minder.net</td>\n",
       "      <td>&lt; Make $50,000 in 90 Days Sending Emails at Ho...</td>\n",
       "      <td>Wed, 24 Jul 0102 04:01:49 -0400</td>\n",
       "      <td>Received: from hq.pro-ns.net (localhost [127.0...</td>\n",
       "    </tr>\n",
       "  </tbody>\n",
       "</table>\n",
       "</div>"
      ],
      "text/plain": [
       "                                            sender  \\\n",
       "0                 \"Loveimpact\" <lvi300702@free.fr>   \n",
       "1  \"Cristine Person\" <mikecornwell@myfastmail.com>   \n",
       "2                           \"edum\" <edum@hkem.com>   \n",
       "3                            blissptht65@yahoo.com   \n",
       "4                        <Tonyclg123@starmail.com>   \n",
       "\n",
       "                                      recipient  \\\n",
       "0                       \"-\" <lvi300702@free.fr>   \n",
       "1                 <Crittenden@einstein.ssz.com>   \n",
       "2                        <dcms-dev@eros-os.org>   \n",
       "3  <Undisclosed.Recipients@dogma.slashnull.org>   \n",
       "4                       Hello@locust.minder.net   \n",
       "\n",
       "                                             subject  \\\n",
       "0             Dialogue et Rencontre ? Rejoins nous !   \n",
       "1  Take your love life to the next level         ...   \n",
       "2                          [dcms-dev] MY INHERITANCE   \n",
       "3                                    Gain Major Cash   \n",
       "4  < Make $50,000 in 90 Days Sending Emails at Ho...   \n",
       "\n",
       "                              date  \\\n",
       "0   Fri, 2 Aug 2002 22:22:54 +0200   \n",
       "1  Thu, 25 Jul 2002 15:07:01 -1600   \n",
       "2                     May 16,2002.   \n",
       "3  Sat, 25 Nov 2000 13:06:31 -0700   \n",
       "4  Wed, 24 Jul 0102 04:01:49 -0400   \n",
       "\n",
       "                                             content  \n",
       "0  From lvi300702@free.fr  Tue Aug  6 12:50:59 20...  \n",
       "1  Received: from hq.pro-ns.net (localhost [127.0...  \n",
       "2  From edum@hkem.com  Mon Jun 24 17:04:26 2002Re...  \n",
       "3  From blissptht65@yahoo.com  Thu Jul 12 06:33:5...  \n",
       "4  Received: from hq.pro-ns.net (localhost [127.0...  "
      ]
     },
     "execution_count": 9,
     "metadata": {},
     "output_type": "execute_result"
    }
   ],
   "source": [
    "# taking a look at the data\n",
    "spam.head()"
   ]
  },
  {
   "cell_type": "code",
   "execution_count": 10,
   "metadata": {},
   "outputs": [
    {
     "data": {
      "text/html": [
       "<div>\n",
       "<style scoped>\n",
       "    .dataframe tbody tr th:only-of-type {\n",
       "        vertical-align: middle;\n",
       "    }\n",
       "\n",
       "    .dataframe tbody tr th {\n",
       "        vertical-align: top;\n",
       "    }\n",
       "\n",
       "    .dataframe thead th {\n",
       "        text-align: right;\n",
       "    }\n",
       "</style>\n",
       "<table border=\"1\" class=\"dataframe\">\n",
       "  <thead>\n",
       "    <tr style=\"text-align: right;\">\n",
       "      <th></th>\n",
       "      <th>sender</th>\n",
       "      <th>recipient</th>\n",
       "      <th>subject</th>\n",
       "      <th>date</th>\n",
       "      <th>content</th>\n",
       "    </tr>\n",
       "  </thead>\n",
       "  <tbody>\n",
       "    <tr>\n",
       "      <th>0</th>\n",
       "      <td>\"CNET News.com Investor\" &lt;Online#3.19846.2a-72...</td>\n",
       "      <td>qqqqqqqqqq-zdnet@example.com</td>\n",
       "      <td>NEWS.COM INVESTOR: Battered stocks regain ground</td>\n",
       "      <td>Thu, 11 Jul 2002 16:21:56 -0700 (PDT)</td>\n",
       "      <td>Return-Path: &lt;Online#3.19846.2a-726zgP3UI7kTO9...</td>\n",
       "    </tr>\n",
       "    <tr>\n",
       "      <th>1</th>\n",
       "      <td>gamasutra &lt;rssfeeds@example.com&gt;</td>\n",
       "      <td>yyyy@example.com</td>\n",
       "      <td>Priceless Rubens works stolen in raid on mansion</td>\n",
       "      <td>2002-09-30T03:04:58+01:00</td>\n",
       "      <td>From rssfeeds@jmason.org  Mon Sep 30 13:43:46 ...</td>\n",
       "    </tr>\n",
       "    <tr>\n",
       "      <th>2</th>\n",
       "      <td>Eugen Leitl &lt;eugen@leitl.org&gt;</td>\n",
       "      <td>&lt;transhumantech@yahoogroups.com&gt;</td>\n",
       "      <td>Making a mesh on the move</td>\n",
       "      <td>Tue, 3 Sep 2002 08:05:27 +0200 (CEST)</td>\n",
       "      <td>From fork-admin@xent.com  Tue Sep  3 14:24:41 ...</td>\n",
       "    </tr>\n",
       "    <tr>\n",
       "      <th>3</th>\n",
       "      <td>\"David B. Thompson\" &lt;thompson@shelob.ce.ttu.edu&gt;</td>\n",
       "      <td>exmh-users@example.com</td>\n",
       "      <td>Re: Sorting</td>\n",
       "      <td>Tue, 10 Sep 2002 14:16:19 -0500</td>\n",
       "      <td>From exmh-users-admin@redhat.com  Wed Sep 11 1...</td>\n",
       "    </tr>\n",
       "    <tr>\n",
       "      <th>4</th>\n",
       "      <td>\"Adam L. Beberg\" &lt;beberg@mithral.com&gt;</td>\n",
       "      <td>\"Reza B'Far (eBuilt)\" &lt;rbfar@ebuilt.com&gt;</td>\n",
       "      <td>RE: Java is for kiddies</td>\n",
       "      <td>Sun, 1 Sep 2002 19:21:33 -0700 (PDT)</td>\n",
       "      <td>From fork-admin@xent.com  Mon Sep  2 16:22:12 ...</td>\n",
       "    </tr>\n",
       "  </tbody>\n",
       "</table>\n",
       "</div>"
      ],
      "text/plain": [
       "                                              sender  \\\n",
       "0  \"CNET News.com Investor\" <Online#3.19846.2a-72...   \n",
       "1                   gamasutra <rssfeeds@example.com>   \n",
       "2                      Eugen Leitl <eugen@leitl.org>   \n",
       "3   \"David B. Thompson\" <thompson@shelob.ce.ttu.edu>   \n",
       "4              \"Adam L. Beberg\" <beberg@mithral.com>   \n",
       "\n",
       "                                  recipient  \\\n",
       "0              qqqqqqqqqq-zdnet@example.com   \n",
       "1                          yyyy@example.com   \n",
       "2          <transhumantech@yahoogroups.com>   \n",
       "3                    exmh-users@example.com   \n",
       "4  \"Reza B'Far (eBuilt)\" <rbfar@ebuilt.com>   \n",
       "\n",
       "                                            subject  \\\n",
       "0  NEWS.COM INVESTOR: Battered stocks regain ground   \n",
       "1  Priceless Rubens works stolen in raid on mansion   \n",
       "2                         Making a mesh on the move   \n",
       "3                                       Re: Sorting   \n",
       "4                           RE: Java is for kiddies   \n",
       "\n",
       "                                    date  \\\n",
       "0  Thu, 11 Jul 2002 16:21:56 -0700 (PDT)   \n",
       "1              2002-09-30T03:04:58+01:00   \n",
       "2  Tue, 3 Sep 2002 08:05:27 +0200 (CEST)   \n",
       "3        Tue, 10 Sep 2002 14:16:19 -0500   \n",
       "4   Sun, 1 Sep 2002 19:21:33 -0700 (PDT)   \n",
       "\n",
       "                                             content  \n",
       "0  Return-Path: <Online#3.19846.2a-726zgP3UI7kTO9...  \n",
       "1  From rssfeeds@jmason.org  Mon Sep 30 13:43:46 ...  \n",
       "2  From fork-admin@xent.com  Tue Sep  3 14:24:41 ...  \n",
       "3  From exmh-users-admin@redhat.com  Wed Sep 11 1...  \n",
       "4  From fork-admin@xent.com  Mon Sep  2 16:22:12 ...  "
      ]
     },
     "execution_count": 10,
     "metadata": {},
     "output_type": "execute_result"
    }
   ],
   "source": [
    "legitimate.head()"
   ]
  },
  {
   "cell_type": "code",
   "execution_count": 11,
   "metadata": {},
   "outputs": [],
   "source": [
    "def preprocess_text(text):\n",
    "    # function to check if a word is a valid English word\n",
    "    def is_english_word(word):\n",
    "        synsets = wordnet.synsets(word)\n",
    "        return len(synsets) > 0 and synsets[0].lemmas()[0].name() == word.lower()\n",
    "\n",
    "    # remove non-word characters and numbers using regular expressions\n",
    "    text = re.sub(r'[^a-zA-Z\\s]', '', text)\n",
    "\n",
    "    # tokenize the text\n",
    "    tokens = word_tokenize(text.lower())\n",
    "\n",
    "    # remove English stop words\n",
    "    english_stopwords = set(stopwords.words('english'))\n",
    "    filtered_tokens = [token for token in tokens if token not in english_stopwords]\n",
    "\n",
    "    # filter out non-English words\n",
    "    english_words = [token for token in filtered_tokens if is_english_word(token)]\n",
    "    \n",
    "    return english_words\n",
    "\n"
   ]
  },
  {
   "cell_type": "code",
   "execution_count": 14,
   "metadata": {},
   "outputs": [
    {
     "name": "stderr",
     "output_type": "stream",
     "text": [
      "[nltk_data] Downloading package stopwords to\n",
      "[nltk_data]     /Users/sophieischenko/nltk_data...\n",
      "[nltk_data]   Unzipping corpora/stopwords.zip.\n"
     ]
    }
   ],
   "source": [
    "import nltk\n",
    "nltk.download('stopwords')\n",
    "\n",
    "# applying the function to the legit emails content\n",
    "legitimate['content'] = legitimate['content'].apply(preprocess_text)"
   ]
  },
  {
   "cell_type": "code",
   "execution_count": 15,
   "metadata": {},
   "outputs": [
    {
     "data": {
      "text/html": [
       "<div>\n",
       "<style scoped>\n",
       "    .dataframe tbody tr th:only-of-type {\n",
       "        vertical-align: middle;\n",
       "    }\n",
       "\n",
       "    .dataframe tbody tr th {\n",
       "        vertical-align: top;\n",
       "    }\n",
       "\n",
       "    .dataframe thead th {\n",
       "        text-align: right;\n",
       "    }\n",
       "</style>\n",
       "<table border=\"1\" class=\"dataframe\">\n",
       "  <thead>\n",
       "    <tr style=\"text-align: right;\">\n",
       "      <th></th>\n",
       "      <th>sender</th>\n",
       "      <th>recipient</th>\n",
       "      <th>subject</th>\n",
       "      <th>date</th>\n",
       "      <th>content</th>\n",
       "    </tr>\n",
       "  </thead>\n",
       "  <tbody>\n",
       "    <tr>\n",
       "      <th>0</th>\n",
       "      <td>\"CNET News.com Investor\" &lt;Online#3.19846.2a-72...</td>\n",
       "      <td>qqqqqqqqqq-zdnet@example.com</td>\n",
       "      <td>NEWS.COM INVESTOR: Battered stocks regain ground</td>\n",
       "      <td>Thu, 11 Jul 2002 16:21:56 -0700 (PDT)</td>\n",
       "      <td>[investor, width, width, width, height, invest...</td>\n",
       "    </tr>\n",
       "    <tr>\n",
       "      <th>1</th>\n",
       "      <td>gamasutra &lt;rssfeeds@example.com&gt;</td>\n",
       "      <td>yyyy@example.com</td>\n",
       "      <td>Priceless Rubens works stolen in raid on mansion</td>\n",
       "      <td>2002-09-30T03:04:58+01:00</td>\n",
       "      <td>[fourth, art, home, gangster]</td>\n",
       "    </tr>\n",
       "    <tr>\n",
       "      <th>2</th>\n",
       "      <td>Eugen Leitl &lt;eugen@leitl.org&gt;</td>\n",
       "      <td>&lt;transhumantech@yahoogroups.com&gt;</td>\n",
       "      <td>Making a mesh on the move</td>\n",
       "      <td>Tue, 3 Sep 2002 08:05:27 +0200 (CEST)</td>\n",
       "      <td>[unknown, mesh, new, give, fast, trouble, able...</td>\n",
       "    </tr>\n",
       "    <tr>\n",
       "      <th>3</th>\n",
       "      <td>\"David B. Thompson\" &lt;thompson@shelob.ce.ttu.edu&gt;</td>\n",
       "      <td>exmh-users@example.com</td>\n",
       "      <td>Re: Sorting</td>\n",
       "      <td>Tue, 10 Sep 2002 14:16:19 -0500</td>\n",
       "      <td>[message, discussion, list, probably, local, m...</td>\n",
       "    </tr>\n",
       "    <tr>\n",
       "      <th>4</th>\n",
       "      <td>\"Adam L. Beberg\" &lt;beberg@mithral.com&gt;</td>\n",
       "      <td>\"Reza B'Far (eBuilt)\" &lt;rbfar@ebuilt.com&gt;</td>\n",
       "      <td>RE: Java is for kiddies</td>\n",
       "      <td>Sun, 1 Sep 2002 19:21:33 -0700 (PDT)</td>\n",
       "      <td>[sun, sun, developer, solve, memory, managemen...</td>\n",
       "    </tr>\n",
       "  </tbody>\n",
       "</table>\n",
       "</div>"
      ],
      "text/plain": [
       "                                              sender  \\\n",
       "0  \"CNET News.com Investor\" <Online#3.19846.2a-72...   \n",
       "1                   gamasutra <rssfeeds@example.com>   \n",
       "2                      Eugen Leitl <eugen@leitl.org>   \n",
       "3   \"David B. Thompson\" <thompson@shelob.ce.ttu.edu>   \n",
       "4              \"Adam L. Beberg\" <beberg@mithral.com>   \n",
       "\n",
       "                                  recipient  \\\n",
       "0              qqqqqqqqqq-zdnet@example.com   \n",
       "1                          yyyy@example.com   \n",
       "2          <transhumantech@yahoogroups.com>   \n",
       "3                    exmh-users@example.com   \n",
       "4  \"Reza B'Far (eBuilt)\" <rbfar@ebuilt.com>   \n",
       "\n",
       "                                            subject  \\\n",
       "0  NEWS.COM INVESTOR: Battered stocks regain ground   \n",
       "1  Priceless Rubens works stolen in raid on mansion   \n",
       "2                         Making a mesh on the move   \n",
       "3                                       Re: Sorting   \n",
       "4                           RE: Java is for kiddies   \n",
       "\n",
       "                                    date  \\\n",
       "0  Thu, 11 Jul 2002 16:21:56 -0700 (PDT)   \n",
       "1              2002-09-30T03:04:58+01:00   \n",
       "2  Tue, 3 Sep 2002 08:05:27 +0200 (CEST)   \n",
       "3        Tue, 10 Sep 2002 14:16:19 -0500   \n",
       "4   Sun, 1 Sep 2002 19:21:33 -0700 (PDT)   \n",
       "\n",
       "                                             content  \n",
       "0  [investor, width, width, width, height, invest...  \n",
       "1                      [fourth, art, home, gangster]  \n",
       "2  [unknown, mesh, new, give, fast, trouble, able...  \n",
       "3  [message, discussion, list, probably, local, m...  \n",
       "4  [sun, sun, developer, solve, memory, managemen...  "
      ]
     },
     "execution_count": 15,
     "metadata": {},
     "output_type": "execute_result"
    }
   ],
   "source": [
    "# taking a look at the data now\n",
    "legitimate.head()"
   ]
  },
  {
   "cell_type": "code",
   "execution_count": 16,
   "metadata": {},
   "outputs": [
    {
     "data": {
      "text/html": [
       "<div>\n",
       "<style scoped>\n",
       "    .dataframe tbody tr th:only-of-type {\n",
       "        vertical-align: middle;\n",
       "    }\n",
       "\n",
       "    .dataframe tbody tr th {\n",
       "        vertical-align: top;\n",
       "    }\n",
       "\n",
       "    .dataframe thead th {\n",
       "        text-align: right;\n",
       "    }\n",
       "</style>\n",
       "<table border=\"1\" class=\"dataframe\">\n",
       "  <thead>\n",
       "    <tr style=\"text-align: right;\">\n",
       "      <th></th>\n",
       "      <th>sender</th>\n",
       "      <th>recipient</th>\n",
       "      <th>subject</th>\n",
       "      <th>date</th>\n",
       "      <th>content</th>\n",
       "    </tr>\n",
       "  </thead>\n",
       "  <tbody>\n",
       "    <tr>\n",
       "      <th>0</th>\n",
       "      <td>\"Loveimpact\" &lt;lvi300702@free.fr&gt;</td>\n",
       "      <td>\"-\" &lt;lvi300702@free.fr&gt;</td>\n",
       "      <td>Dialogue et Rencontre ? Rejoins nous !</td>\n",
       "      <td>Fri, 2 Aug 2002 22:22:54 +0200</td>\n",
       "      <td>[inscription, en, en, en, contact, pour, pour,...</td>\n",
       "    </tr>\n",
       "    <tr>\n",
       "      <th>1</th>\n",
       "      <td>\"Cristine Person\" &lt;mikecornwell@myfastmail.com&gt;</td>\n",
       "      <td>&lt;Crittenden@einstein.ssz.com&gt;</td>\n",
       "      <td>Take your love life to the next level         ...</td>\n",
       "      <td>Thu, 25 Jul 2002 15:07:01 -1600</td>\n",
       "      <td>[submit, exchange, internet, mail, service, ve...</td>\n",
       "    </tr>\n",
       "    <tr>\n",
       "      <th>2</th>\n",
       "      <td>\"edum\" &lt;edum@hkem.com&gt;</td>\n",
       "      <td>&lt;dcms-dev@eros-os.org&gt;</td>\n",
       "      <td>[dcms-dev] MY INHERITANCE</td>\n",
       "      <td>May 16,2002.</td>\n",
       "      <td>[development, list, one, union, independence, ...</td>\n",
       "    </tr>\n",
       "    <tr>\n",
       "      <th>3</th>\n",
       "      <td>blissptht65@yahoo.com</td>\n",
       "      <td>&lt;Undisclosed.Recipients@dogma.slashnull.org&gt;</td>\n",
       "      <td>Gain Major Cash</td>\n",
       "      <td>Sat, 25 Nov 2000 13:06:31 -0700</td>\n",
       "      <td>[free, casino, potential, free, internet, gamb...</td>\n",
       "    </tr>\n",
       "    <tr>\n",
       "      <th>4</th>\n",
       "      <td>&lt;Tonyclg123@starmail.com&gt;</td>\n",
       "      <td>Hello@locust.minder.net</td>\n",
       "      <td>&lt; Make $50,000 in 90 Days Sending Emails at Ho...</td>\n",
       "      <td>Wed, 24 Jul 0102 04:01:49 -0400</td>\n",
       "      <td>[submit, days, sending, impossible, catch, cat...</td>\n",
       "    </tr>\n",
       "  </tbody>\n",
       "</table>\n",
       "</div>"
      ],
      "text/plain": [
       "                                            sender  \\\n",
       "0                 \"Loveimpact\" <lvi300702@free.fr>   \n",
       "1  \"Cristine Person\" <mikecornwell@myfastmail.com>   \n",
       "2                           \"edum\" <edum@hkem.com>   \n",
       "3                            blissptht65@yahoo.com   \n",
       "4                        <Tonyclg123@starmail.com>   \n",
       "\n",
       "                                      recipient  \\\n",
       "0                       \"-\" <lvi300702@free.fr>   \n",
       "1                 <Crittenden@einstein.ssz.com>   \n",
       "2                        <dcms-dev@eros-os.org>   \n",
       "3  <Undisclosed.Recipients@dogma.slashnull.org>   \n",
       "4                       Hello@locust.minder.net   \n",
       "\n",
       "                                             subject  \\\n",
       "0             Dialogue et Rencontre ? Rejoins nous !   \n",
       "1  Take your love life to the next level         ...   \n",
       "2                          [dcms-dev] MY INHERITANCE   \n",
       "3                                    Gain Major Cash   \n",
       "4  < Make $50,000 in 90 Days Sending Emails at Ho...   \n",
       "\n",
       "                              date  \\\n",
       "0   Fri, 2 Aug 2002 22:22:54 +0200   \n",
       "1  Thu, 25 Jul 2002 15:07:01 -1600   \n",
       "2                     May 16,2002.   \n",
       "3  Sat, 25 Nov 2000 13:06:31 -0700   \n",
       "4  Wed, 24 Jul 0102 04:01:49 -0400   \n",
       "\n",
       "                                             content  \n",
       "0  [inscription, en, en, en, contact, pour, pour,...  \n",
       "1  [submit, exchange, internet, mail, service, ve...  \n",
       "2  [development, list, one, union, independence, ...  \n",
       "3  [free, casino, potential, free, internet, gamb...  \n",
       "4  [submit, days, sending, impossible, catch, cat...  "
      ]
     },
     "execution_count": 16,
     "metadata": {},
     "output_type": "execute_result"
    }
   ],
   "source": [
    "# doing the same for spam emails\n",
    "spam['content'] = spam['content'].apply(preprocess_text)\n",
    "spam.head()"
   ]
  },
  {
   "cell_type": "code",
   "execution_count": 17,
   "metadata": {},
   "outputs": [
    {
     "data": {
      "text/plain": [
       "{'able',\n",
       " 'beginning',\n",
       " 'company',\n",
       " 'establish',\n",
       " 'give',\n",
       " 'hundred',\n",
       " 'new',\n",
       " 'say',\n",
       " 'soon'}"
      ]
     },
     "execution_count": 17,
     "metadata": {},
     "output_type": "execute_result"
    }
   ],
   "source": [
    "# checking if legit emails are different from spam ---> Yes!\n",
    "set(spam['content'][2]).intersection(set(legitimate['content'][2]))"
   ]
  },
  {
   "cell_type": "code",
   "execution_count": 18,
   "metadata": {},
   "outputs": [
    {
     "data": {
      "image/png": "[encoded data removed]",
      "text/plain": [
       "<Figure size 640x480 with 1 Axes>"
      ]
     },
     "metadata": {},
     "output_type": "display_data"
    }
   ],
   "source": [
    "import matplotlib.pyplot as plt\n",
    "\n",
    "legit_count = len(legitimate)\n",
    "spam_count = len(spam)\n",
    "\n",
    "fig, ax = plt.subplots()\n",
    "\n",
    "ax.bar([\"Legitimate\", \"Spam\"], [legit_count, spam_count], color = [\"green\", \"red\"])\n",
    "\n",
    "ax.set_ylabel(\"Number of Emails\")\n",
    "ax.set_title(\"Distribution of Legitimate vs. Spam Emails\")\n",
    "\n",
    "plt.show()"
   ]
  },
  {
   "cell_type": "code",
   "execution_count": 19,
   "metadata": {},
   "outputs": [],
   "source": [
    "# creating labels for spam and legit, where spam is 0 and legitimate is 1\n",
    "target = np.array(len(legitimate['content']) * [1] + len(spam['content']) * [0])"
   ]
  },
  {
   "cell_type": "code",
   "execution_count": 20,
   "metadata": {},
   "outputs": [
    {
     "data": {
      "text/plain": [
       "(0, 1)"
      ]
     },
     "execution_count": 20,
     "metadata": {},
     "output_type": "execute_result"
    }
   ],
   "source": [
    "# taking a look at our target\n",
    "target[-1], target[0] # our target of 0s and 1s"
   ]
  },
  {
   "cell_type": "code",
   "execution_count": 21,
   "metadata": {},
   "outputs": [],
   "source": [
    "# creating the features\n",
    "features = list(legitimate['content']) + list(spam['content'])"
   ]
  },
  {
   "cell_type": "code",
   "execution_count": 22,
   "metadata": {},
   "outputs": [
    {
     "data": {
      "text/plain": [
       "['investor',\n",
       " 'width',\n",
       " 'width',\n",
       " 'width',\n",
       " 'height',\n",
       " 'investor',\n",
       " 'width',\n",
       " 'width',\n",
       " 'width',\n",
       " 'width',\n",
       " 'width',\n",
       " 'width',\n",
       " 'width']"
      ]
     },
     "execution_count": 22,
     "metadata": {},
     "output_type": "execute_result"
    }
   ],
   "source": [
    "# taking a look at some features\n",
    "features[0][0:13]"
   ]
  },
  {
   "cell_type": "code",
   "execution_count": 23,
   "metadata": {},
   "outputs": [],
   "source": [
    "# converting the features and target to numpy arrays and reshaping them\n",
    "features, target = np.array(features, dtype = object).reshape(-1, 1), np.array(target).reshape(-1, 1)"
   ]
  },
  {
   "cell_type": "code",
   "execution_count": 24,
   "metadata": {},
   "outputs": [],
   "source": [
    "# using stratified random split to generate training and test data\n",
    "from sklearn.model_selection import train_test_split\n",
    "\n",
    "X_train, X_test, y_train, y_test = train_test_split(features, target, stratify = target, test_size = 0.2, random_state = 0)\n",
    "\n",
    "# Use the same function above for the validation set\n",
    "X_train, X_val, y_train, y_val = train_test_split(X_train, y_train, test_size = 0.25, random_state = 0)"
   ]
  },
  {
   "cell_type": "code",
   "execution_count": 25,
   "metadata": {},
   "outputs": [
    {
     "name": "stdout",
     "output_type": "stream",
     "text": [
      "X_train: (2520, 1), X_test: (840, 1), y_train: (2520, 1), y_test: (840, 1)\n"
     ]
    }
   ],
   "source": [
    "# looking at the shapes\n",
    "print('X_train: {}, X_test: {}, y_train: {}, y_test: {}'.format(X_train.shape, X_test.shape, y_train.shape, y_test.shape)) "
   ]
  },
  {
   "cell_type": "code",
   "execution_count": 26,
   "metadata": {},
   "outputs": [
    {
     "name": "stdout",
     "output_type": "stream",
     "text": [
      "X_train: (2520, 1), X_test: (840, 1), X_val: (840, 1), y_val: (840, 1)\n"
     ]
    }
   ],
   "source": [
    "print('X_train: {}, X_test: {}, X_val: {}, y_val: {}'.format(X_train.shape, X_test.shape, X_val.shape, y_val.shape)) "
   ]
  },
  {
   "cell_type": "code",
   "execution_count": 27,
   "metadata": {},
   "outputs": [],
   "source": [
    "from sklearn.feature_extraction.text import CountVectorizer\n",
    "\n",
    "def vectorize_data(X_train, X_test, y_train, y_test, X_val, y_val):\n",
    "    # Convert X_train to a list of strings and convert to lowercase\n",
    "    X_train = [str(x).lower() for x in X_train]\n",
    "    \n",
    "    # Convert X_test to a list of strings and convert to lowercase\n",
    "    X_test = [str(x).lower() for x in X_test]\n",
    "    \n",
    "    # Convert X_val to a list of strings and convert to lowercase\n",
    "    X_val = [str(x).lower() for x in X_val]\n",
    "    \n",
    "    # Initialize CountVectorizer and fit training data\n",
    "    count_vect = CountVectorizer(stop_words='english')\n",
    "    count_vect.fit(X_train)\n",
    "\n",
    "    # Vectorize the training data\n",
    "    X_train = count_vect.transform(X_train).toarray()\n",
    "    y_train = np.array(y_train).reshape(len(y_train), 1)\n",
    "\n",
    "    # Vectorize the testing data\n",
    "    X_test = count_vect.transform(X_test).toarray()\n",
    "    y_test = np.array(y_test).reshape(len(y_test), 1)\n",
    "    \n",
    "    # Vectorize the validation data\n",
    "    X_val = count_vect.transform(X_val).toarray()\n",
    "    y_val = np.array(y_val).reshape(len(y_val), 1)\n",
    "\n",
    "    return X_train, X_test, y_train, y_test, X_val, y_val\n",
    "\n",
    "# vectorizing the training, validation, and test sets\n",
    "X_train_vec, X_test_vec, y_train_vec, y_test_vec, X_val_vec, y_val_vec = vectorize_data(X_train, X_test, y_train, y_test,  X_val, y_val)"
   ]
  },
  {
   "cell_type": "code",
   "execution_count": 47,
   "metadata": {},
   "outputs": [
    {
     "name": "stdout",
     "output_type": "stream",
     "text": [
      "Genauigkeit: 0.9214285714285714\n"
     ]
    }
   ],
   "source": [
    "from sklearn.naive_bayes import BernoulliNB\n",
    "from sklearn.metrics import accuracy_score\n",
    "import warnings\n",
    "warnings.filterwarnings('ignore')\n",
    "\n",
    "\n",
    "# Initialisieren des Modells\n",
    "bnb = BernoulliNB()\n",
    "\n",
    "# Trainieren des Modells\n",
    "bnb.fit(X_train_vec, y_train_vec)\n",
    "\n",
    "# Vorhersage auf den Testdaten\n",
    "y_pred_bnb = bnb.predict(X_test_vec)\n",
    "\n",
    "# Berechnung der Genauigkeit des Modells\n",
    "accuracy = accuracy_score(y_test_vec, y_pred_bnb)\n",
    "print(f\"Genauigkeit: {accuracy}\")"
   ]
  },
  {
   "cell_type": "code",
   "execution_count": 48,
   "metadata": {},
   "outputs": [
    {
     "name": "stdout",
     "output_type": "stream",
     "text": [
      "Accuracy: 0.8940476190476191\n"
     ]
    }
   ],
   "source": [
    "from sklearn.naive_bayes import ComplementNB\n",
    "warnings.filterwarnings('ignore')\n",
    "\n",
    "# Initialize the ComplementNB classifier\n",
    "cnb = ComplementNB()\n",
    "\n",
    "# Train the model on the training data\n",
    "cnb.fit(X_train_vec, y_train_vec)\n",
    "\n",
    "# Predict the labels of the test data\n",
    "y_pred_cnb = cnb.predict(X_test_vec)\n",
    "\n",
    "# Calculate the accuracy score of the model\n",
    "accuracy = accuracy_score(y_test_vec, y_pred_cnb)\n",
    "print(f\"Accuracy: {accuracy}\")\n"
   ]
  },
  {
   "cell_type": "code",
   "execution_count": 49,
   "metadata": {},
   "outputs": [
    {
     "name": "stdout",
     "output_type": "stream",
     "text": [
      "Accuracy: 0.9130952380952381\n"
     ]
    }
   ],
   "source": [
    "from sklearn.naive_bayes import MultinomialNB\n",
    "from sklearn.metrics import accuracy_score\n",
    "warnings.filterwarnings('ignore')\n",
    "\n",
    "# Train the model\n",
    "mnb = MultinomialNB()\n",
    "\n",
    "mnb.fit(X_train_vec, y_train_vec)\n",
    "\n",
    "# Predict the labels of the test data\n",
    "y_pred_mnb = mnb.predict(X_test_vec)\n",
    "\n",
    "# Calculate accuracy score\n",
    "accuracy = accuracy_score(y_test, y_pred_mnb)\n",
    "print(f\"Accuracy: {accuracy}\")\n"
   ]
  },
  {
   "cell_type": "code",
   "execution_count": 45,
   "metadata": {},
   "outputs": [
    {
     "data": {
      "image/png": "[encoded data removed]",
      "text/plain": [
       "<Figure size 640x480 with 1 Axes>"
      ]
     },
     "metadata": {},
     "output_type": "display_data"
    }
   ],
   "source": [
    "import matplotlib.pyplot as plt\n",
    "\n",
    "# Genauigkeiten der Modelle\n",
    "accuracies = [0.9214285714285714, 0.8940476190476191, 0.9130952380952381]\n",
    "\n",
    "# Modelle\n",
    "models = ['BernoulliNB', 'ComplementNB', 'MultinomialNB']\n",
    "\n",
    "# Erstellen des Barplots\n",
    "plt.bar(models, accuracies, color=['blue', 'green', 'red'])\n",
    "\n",
    "# Titel und Beschriftungen hinzufügen\n",
    "plt.title('Genauigkeit der Naive Bayes Modelle')\n",
    "plt.xlabel('Modelle')\n",
    "plt.ylabel('Genauigkeit')\n",
    "\n",
    "# Anzeigen des Plots\n",
    "plt.show()\n"
   ]
  },
  {
   "cell_type": "code",
   "execution_count": 46,
   "metadata": {},
   "outputs": [
    {
     "data": {
      "image/png": "[encoded data removed]",
      "text/plain": [
       "<Figure size 800x600 with 2 Axes>"
      ]
     },
     "metadata": {},
     "output_type": "display_data"
    },
    {
     "data": {
      "image/png": "[encoded data removed]",
      "text/plain": [
       "<Figure size 800x600 with 2 Axes>"
      ]
     },
     "metadata": {},
     "output_type": "display_data"
    },
    {
     "data": {
      "image/png": "[encoded data removed]",
      "text/plain": [
       "<Figure size 800x600 with 2 Axes>"
      ]
     },
     "metadata": {},
     "output_type": "display_data"
    }
   ],
   "source": [
    "import matplotlib.pyplot as plt\n",
    "import numpy as np\n",
    "from sklearn.metrics import confusion_matrix\n",
    "import seaborn as sns\n",
    "\n",
    "# Modelle und ihre Vorhersagen\n",
    "models = ['BernoulliNB', 'ComplementNB', 'MultinomialNB']\n",
    "y_preds = [y_pred_bnb, y_pred_cnb, y_pred_mnb]\n",
    "\n",
    "# Erstellen und Anzeigen der Konfusionsmatrizen\n",
    "for model, y_pred in zip(models, y_preds):\n",
    "    cm = confusion_matrix(y_test_vec, y_pred)\n",
    "    plt.figure(figsize=(8, 6))\n",
    "    sns.heatmap(cm, annot=True, cmap='Blues', fmt='g')\n",
    "    plt.title(f'Confusion Matrix for {model}')\n",
    "    plt.xlabel('Predicted Labels')\n",
    "    plt.ylabel('True Labels')\n",
    "    plt.show()\n"
   ]
  },
  {
   "cell_type": "code",
   "execution_count": null,
   "metadata": {},
   "outputs": [],
   "source": []
  }
 ],
 "metadata": {
  "kernelspec": {
   "display_name": "Python 3 (ipykernel)",
   "language": "python",
   "name": "python3"
  },
  "language_info": {
   "codemirror_mode": {
    "name": "ipython",
    "version": 3
   },
   "file_extension": ".py",
   "mimetype": "text/x-python",
   "name": "python",
   "nbconvert_exporter": "python",
   "pygments_lexer": "ipython3",
   "version": "3.11.4"
  }
 },
 "nbformat": 4,
 "nbformat_minor": 2
}
